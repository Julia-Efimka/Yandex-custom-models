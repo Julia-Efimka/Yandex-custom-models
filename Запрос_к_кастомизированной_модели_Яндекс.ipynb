{
  "nbformat": 4,
  "nbformat_minor": 0,
  "metadata": {
    "colab": {
      "provenance": []
    },
    "kernelspec": {
      "name": "python3",
      "display_name": "Python 3"
    },
    "language_info": {
      "name": "python"
    }
  },
  "cells": [
    {
      "cell_type": "markdown",
      "source": [
        "**Загрузка необходимых библиотек**"
      ],
      "metadata": {
        "id": "Au86cKBd0q2M"
      }
    },
    {
      "cell_type": "code",
      "execution_count": null,
      "metadata": {
        "id": "tL2c-Qmr0e8h"
      },
      "outputs": [],
      "source": [
        "import requests\n",
        "import json\n",
        "from copy import deepcopy\n",
        "IAM_TOKEN = 'ЗДЕСЬ НУЖНО ВВЕСТИ СВОЙ IAM-TOKEN, ПОЛУЧЕННЫЙ В YANDEX DATASPHERE'\n",
        "\n",
        "#Процедура запроса IAM-токена через командную строку описана в документации Яндекса: https://cloud.yandex.com/en-ru/docs/iam/operations/iam-token/create"
      ]
    },
    {
      "cell_type": "markdown",
      "source": [
        "**Запрос к обученной модели по одному предложению**"
      ],
      "metadata": {
        "id": "trpmWzRq1DSP"
      }
    },
    {
      "cell_type": "code",
      "source": [
        "URL = \"https://translate.api.cloud.yandex.net/translate/v2/translate\"\n",
        "HEADERS = {'Content-Type': 'application/json', 'Authorization': f'Bearer {IAM_TOKEN}'}\n",
        "PAYLOAD = {\n",
        " \"sourceLanguageCode\": SRC_LANG,\n",
        " \"targetLanguageCode\": DST_LANG\n",
        "}\n",
        "def translate(text, custom_model_id=None):\n",
        "     data = deepcopy(PAYLOAD)\n",
        "     data['texts'] = [text]\n",
        "     if custom_model_id is not None:\n",
        "         data['model'] = custom_model_id\n",
        "     translation_request = requests.post(URL, data=json.dumps(data), headers=HEADERS)\n",
        "     return translation_request.json()\n",
        "\n",
        "translate('ЗДЕСЬ САМ ТЕКСТ ДЛЯ ПЕРЕВОДА', custom_model_id='ЗДЕСЬ ВВОДИМ ID МОДЕЛИ, ПОЛУЧЕННОЕ ПО КОМАНДЕ REPORT')"
      ],
      "metadata": {
        "id": "QW2pFkGw0v9Q"
      },
      "execution_count": null,
      "outputs": []
    },
    {
      "cell_type": "markdown",
      "source": [
        "**Запрос к обученной модели через отправку Excel-файла с тестовым сегментом**"
      ],
      "metadata": {
        "id": "4IVqrqfD1kcR"
      }
    },
    {
      "cell_type": "code",
      "source": [
        "import requests\n",
        "import json\n",
        "import pandas as pd\n",
        "from copy import deepcopy\n",
        "\n",
        "URL = \"https://translate.api.cloud.yandex.net/translate/v2/translate\"\n",
        "HEADERS = {'Content-Type': 'application/json', 'Authorization': f'Bearer {IAM_TOKEN}'}\n",
        "PAYLOAD = {\n",
        " \"sourceLanguageCode\": SRC_LANG,\n",
        " \"targetLanguageCode\": DST_LANG\n",
        "}\n",
        "\n",
        "def translate(text, custom_model_id=None):\n",
        "    data = deepcopy(PAYLOAD)\n",
        "    data['texts'] = [text]\n",
        "    if custom_model_id is not None:\n",
        "        data['model'] = custom_model_id\n",
        "    translation_request = requests.post(URL, data=json.dumps(data), headers=HEADERS)\n",
        "    response = translation_request.json()\n",
        "    # Assuming the translated text is in the 'translations' field of the response\n",
        "    return response.get('translations', [{}])[0].get('text', '')\n",
        "\n",
        "def translate_excel(file_path, column_name, custom_model_id=None, output_file_path='translated.xlsx'):\n",
        "    # Read the Excel file\n",
        "    df = pd.read_excel(file_path)\n",
        "\n",
        "    # Check if the specified column exists\n",
        "    if column_name not in df.columns:\n",
        "        raise ValueError(f\"Column '{column_name}' not found in the Excel file.\")\n",
        "\n",
        "    # Translate each entry in the column and add to a new list\n",
        "    translations = []\n",
        "    for text in df[column_name]:\n",
        "        translated_text = translate(text, custom_model_id)\n",
        "        translations.append(translated_text)\n",
        "\n",
        "    # Add the translations as a new column\n",
        "    df['Yandex trained'] = translations\n",
        "\n",
        "    # Save the DataFrame with the new column to a new Excel file\n",
        "    df.to_excel(output_file_path, index=False)\n",
        "\n",
        "    return output_file_path\n",
        "\n",
        "# Example usage\n",
        "output_path = translate_excel('НАЗВАНИЕ EXCEL-ФАЙЛА С ТЕСТОВЫМ СЕГМЕНТОМ', 'НАЗВАНИЕ КОЛОНКИ С ТЕСТОВЫМ СЕГМЕНТОМ', custom_model_id='ЗДЕСЬ ВВОДИМ ID МОДЕЛИ, ПОЛУЧЕННОЕ ПО КОМАНДЕ REPORT')\n",
        "print(f\"Translations saved to {output_path}\")"
      ],
      "metadata": {
        "id": "CSuuYJUl1PUJ"
      },
      "execution_count": null,
      "outputs": []
    }
  ]
}